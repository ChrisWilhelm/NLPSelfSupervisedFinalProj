{
 "cells": [
  {
   "cell_type": "code",
   "execution_count": 9,
   "metadata": {},
   "outputs": [
    {
     "name": "stdout",
     "output_type": "stream",
     "text": [
      "Saved TrainDocs_1\\resume_557_d1.txt\n",
      "Saved TrainDocs_1\\resume_1009_d1.txt\n",
      "Saved TrainDocs_1\\resume_2426_d1.txt\n",
      "Saved TrainDocs_1\\resume_1062_d1.txt\n",
      "Saved TrainDocs_1\\resume_864_d1.txt\n",
      "Saved TrainDocs_1\\resume_1640_d1.txt\n",
      "Saved TrainDocs_1\\resume_792_d1.txt\n",
      "Saved TrainDocs_1\\resume_2256_d1.txt\n",
      "Saved TrainDocs_1\\resume_994_d1.txt\n",
      "Saved TrainDocs_1\\resume_1884_d1.txt\n",
      "Saved TrainDocs_1\\resume_291_d1.txt\n",
      "Saved TrainDocs_1\\resume_819_d1.txt\n",
      "Saved TrainDocs_1\\resume_2065_d1.txt\n",
      "Saved TrainDocs_1\\resume_699_d1.txt\n",
      "Saved TrainDocs_1\\resume_2088_d1.txt\n",
      "Saved TrainDocs_1\\resume_2294_d1.txt\n",
      "Saved TrainDocs_1\\resume_83_d1.txt\n",
      "Saved TrainDocs_1\\resume_2113_d1.txt\n",
      "Saved TrainDocs_1\\resume_2419_d1.txt\n",
      "Saved TrainDocs_1\\resume_2248_d1.txt\n",
      "Saved TrainDocs_1\\resume_1464_d1.txt\n",
      "Saved TrainDocs_1\\resume_887_d1.txt\n",
      "Saved TrainDocs_1\\resume_1054_d1.txt\n",
      "Saved TrainDocs_1\\resume_2347_d1.txt\n",
      "Saved TrainDocs_1\\resume_1180_d1.txt\n",
      "Saved TrainDocs_1\\resume_53_d1.txt\n",
      "Saved TrainDocs_1\\resume_1775_d1.txt\n",
      "Saved TrainDocs_1\\resume_188_d1.txt\n",
      "Saved TrainDocs_1\\resume_1791_d1.txt\n",
      "Saved TrainDocs_1\\resume_791_d1.txt\n",
      "Saved TrainDocs_1\\resume_1222_d1.txt\n",
      "Saved TrainDocs_1\\resume_1829_d1.txt\n",
      "Saved TrainDocs_1\\resume_2353_d1.txt\n",
      "Saved TrainDocs_1\\resume_544_d1.txt\n",
      "Saved TrainDocs_1\\resume_310_d1.txt\n",
      "Saved TrainDocs_1\\resume_2084_d1.txt\n",
      "Saved TrainDocs_1\\resume_501_d1.txt\n",
      "Saved TrainDocs_1\\resume_1477_d1.txt\n",
      "Saved TrainDocs_1\\resume_2146_d1.txt\n",
      "Saved TrainDocs_1\\resume_531_d1.txt\n",
      "Saved TrainDocs_1\\resume_716_d1.txt\n",
      "Saved TrainDocs_1\\resume_845_d1.txt\n",
      "Saved TrainDocs_1\\resume_342_d1.txt\n",
      "Saved TrainDocs_1\\resume_244_d1.txt\n",
      "Saved TrainDocs_1\\resume_1974_d1.txt\n",
      "Saved TrainDocs_1\\resume_343_d1.txt\n",
      "Saved TrainDocs_1\\resume_120_d1.txt\n",
      "Saved TrainDocs_1\\resume_691_d1.txt\n",
      "Saved TrainDocs_1\\resume_1995_d1.txt\n",
      "Saved TrainDocs_1\\resume_736_d1.txt\n"
     ]
    }
   ],
   "source": [
    "import pandas as pd\n",
    "import random\n",
    "import os\n",
    "\n",
    "# Load the CSV file into a DataFrame\n",
    "df = pd.read_csv(\"Resume.csv\")\n",
    "\n",
    "# Select 4 random rows\n",
    "random_rows = df.sample(n=50)\n",
    "\n",
    "# Create a folder named TrainDocs_1 if it doesn't exist\n",
    "folder_name = \"TrainDocs_1\"\n",
    "os.makedirs(folder_name, exist_ok=True)\n",
    "\n",
    "# Iterate over the selected rows and save each 'Resume_txt' to a unique text file\n",
    "for index, row in random_rows.iterrows():\n",
    "    resume_text = row['Resume_str']\n",
    "    filename = os.path.join(folder_name, f\"resume_{index}_d1.txt\")\n",
    "    with open(filename, 'w', encoding='utf-8') as file:\n",
    "        file.write(resume_text)\n",
    "    print(f\"Saved {filename}\")\n"
   ]
  },
  {
   "cell_type": "code",
   "execution_count": 2,
   "metadata": {},
   "outputs": [
    {
     "data": {
      "text/plain": [
       "Index(['ID', 'Resume_str', 'Resume_html', 'Category'], dtype='object')"
      ]
     },
     "execution_count": 2,
     "metadata": {},
     "output_type": "execute_result"
    }
   ],
   "source": [
    "df.columns"
   ]
  },
  {
   "cell_type": "code",
   "execution_count": 10,
   "metadata": {},
   "outputs": [],
   "source": [
    "df2 = pd.read_csv(\"final_merged_dataset2.csv\")"
   ]
  },
  {
   "cell_type": "code",
   "execution_count": 11,
   "metadata": {},
   "outputs": [
    {
     "data": {
      "text/html": [
       "<div>\n",
       "<style scoped>\n",
       "    .dataframe tbody tr th:only-of-type {\n",
       "        vertical-align: middle;\n",
       "    }\n",
       "\n",
       "    .dataframe tbody tr th {\n",
       "        vertical-align: top;\n",
       "    }\n",
       "\n",
       "    .dataframe thead th {\n",
       "        text-align: right;\n",
       "    }\n",
       "</style>\n",
       "<table border=\"1\" class=\"dataframe\">\n",
       "  <thead>\n",
       "    <tr style=\"text-align: right;\">\n",
       "      <th></th>\n",
       "      <th>Resume</th>\n",
       "      <th>Category</th>\n",
       "    </tr>\n",
       "  </thead>\n",
       "  <tbody>\n",
       "    <tr>\n",
       "      <th>0</th>\n",
       "      <td>Python Developer Python Developer Philadelphia...</td>\n",
       "      <td>Python_Developer</td>\n",
       "    </tr>\n",
       "    <tr>\n",
       "      <th>1</th>\n",
       "      <td>Python Developer Python Developer Python Devel...</td>\n",
       "      <td>Python_Developer</td>\n",
       "    </tr>\n",
       "    <tr>\n",
       "      <th>2</th>\n",
       "      <td>R&amp;D Engineer R&amp;D Engineer R&amp;D Engineer - Nokia...</td>\n",
       "      <td>Python_Developer</td>\n",
       "    </tr>\n",
       "    <tr>\n",
       "      <th>3</th>\n",
       "      <td>Sr. Full Stack Developer Sr. Full Stack Develo...</td>\n",
       "      <td>Python_Developer</td>\n",
       "    </tr>\n",
       "    <tr>\n",
       "      <th>4</th>\n",
       "      <td>Sr. Full Stack Python Developer Sr. Full Stack...</td>\n",
       "      <td>Python_Developer</td>\n",
       "    </tr>\n",
       "  </tbody>\n",
       "</table>\n",
       "</div>"
      ],
      "text/plain": [
       "                                              Resume          Category\n",
       "0  Python Developer Python Developer Philadelphia...  Python_Developer\n",
       "1  Python Developer Python Developer Python Devel...  Python_Developer\n",
       "2  R&D Engineer R&D Engineer R&D Engineer - Nokia...  Python_Developer\n",
       "3  Sr. Full Stack Developer Sr. Full Stack Develo...  Python_Developer\n",
       "4  Sr. Full Stack Python Developer Sr. Full Stack...  Python_Developer"
      ]
     },
     "execution_count": 11,
     "metadata": {},
     "output_type": "execute_result"
    }
   ],
   "source": [
    "df2.head()"
   ]
  },
  {
   "cell_type": "code",
   "execution_count": 13,
   "metadata": {},
   "outputs": [
    {
     "name": "stdout",
     "output_type": "stream",
     "text": [
      "Saved TrainDocs_1\\resume_7459_d2.txt\n",
      "Saved TrainDocs_1\\resume_5727_d2.txt\n",
      "Saved TrainDocs_1\\resume_2198_d2.txt\n",
      "Saved TrainDocs_1\\resume_5018_d2.txt\n",
      "Saved TrainDocs_1\\resume_1539_d2.txt\n",
      "Saved TrainDocs_1\\resume_7097_d2.txt\n",
      "Saved TrainDocs_1\\resume_4731_d2.txt\n",
      "Saved TrainDocs_1\\resume_432_d2.txt\n",
      "Saved TrainDocs_1\\resume_4021_d2.txt\n",
      "Saved TrainDocs_1\\resume_6268_d2.txt\n",
      "Saved TrainDocs_1\\resume_627_d2.txt\n",
      "Saved TrainDocs_1\\resume_6214_d2.txt\n",
      "Saved TrainDocs_1\\resume_6300_d2.txt\n",
      "Saved TrainDocs_1\\resume_3144_d2.txt\n",
      "Saved TrainDocs_1\\resume_6066_d2.txt\n",
      "Saved TrainDocs_1\\resume_513_d2.txt\n",
      "Saved TrainDocs_1\\resume_50_d2.txt\n",
      "Saved TrainDocs_1\\resume_7435_d2.txt\n",
      "Saved TrainDocs_1\\resume_6207_d2.txt\n",
      "Saved TrainDocs_1\\resume_2050_d2.txt\n",
      "Saved TrainDocs_1\\resume_7076_d2.txt\n",
      "Saved TrainDocs_1\\resume_1128_d2.txt\n",
      "Saved TrainDocs_1\\resume_5185_d2.txt\n",
      "Saved TrainDocs_1\\resume_1390_d2.txt\n",
      "Saved TrainDocs_1\\resume_3050_d2.txt\n",
      "Saved TrainDocs_1\\resume_6878_d2.txt\n",
      "Saved TrainDocs_1\\resume_7133_d2.txt\n",
      "Saved TrainDocs_1\\resume_2573_d2.txt\n",
      "Saved TrainDocs_1\\resume_4892_d2.txt\n",
      "Saved TrainDocs_1\\resume_1947_d2.txt\n",
      "Saved TrainDocs_1\\resume_5839_d2.txt\n",
      "Saved TrainDocs_1\\resume_4250_d2.txt\n",
      "Saved TrainDocs_1\\resume_8231_d2.txt\n",
      "Saved TrainDocs_1\\resume_6211_d2.txt\n",
      "Saved TrainDocs_1\\resume_4871_d2.txt\n",
      "Saved TrainDocs_1\\resume_4787_d2.txt\n",
      "Saved TrainDocs_1\\resume_6692_d2.txt\n",
      "Saved TrainDocs_1\\resume_2692_d2.txt\n",
      "Saved TrainDocs_1\\resume_5514_d2.txt\n",
      "Saved TrainDocs_1\\resume_5719_d2.txt\n",
      "Saved TrainDocs_1\\resume_7861_d2.txt\n",
      "Saved TrainDocs_1\\resume_6304_d2.txt\n",
      "Saved TrainDocs_1\\resume_6954_d2.txt\n",
      "Saved TrainDocs_1\\resume_164_d2.txt\n",
      "Saved TrainDocs_1\\resume_3802_d2.txt\n",
      "Saved TrainDocs_1\\resume_4769_d2.txt\n",
      "Saved TrainDocs_1\\resume_4285_d2.txt\n",
      "Saved TrainDocs_1\\resume_3317_d2.txt\n",
      "Saved TrainDocs_1\\resume_3609_d2.txt\n",
      "Saved TrainDocs_1\\resume_3948_d2.txt\n"
     ]
    }
   ],
   "source": [
    "# Select 4 random rows\n",
    "random_rows = df2.sample(n=50)\n",
    "\n",
    "# Create a folder named TrainDocs_1 if it doesn't exist\n",
    "folder_name = \"TrainDocs_1\"\n",
    "os.makedirs(folder_name, exist_ok=True)\n",
    "\n",
    "# Iterate over the selected rows and save each 'Resume_txt' to a unique text file\n",
    "for index, row in random_rows.iterrows():\n",
    "    resume_text = row['Resume']\n",
    "    filename = os.path.join(folder_name, f\"resume_{index}_d2.txt\")\n",
    "    with open(filename, 'w', encoding='utf-8') as file:\n",
    "        file.write(resume_text)\n",
    "    print(f\"Saved {filename}\")\n"
   ]
  },
  {
   "cell_type": "code",
   "execution_count": null,
   "metadata": {},
   "outputs": [],
   "source": []
  }
 ],
 "metadata": {
  "kernelspec": {
   "display_name": "Python 3",
   "language": "python",
   "name": "python3"
  },
  "language_info": {
   "codemirror_mode": {
    "name": "ipython",
    "version": 3
   },
   "file_extension": ".py",
   "mimetype": "text/x-python",
   "name": "python",
   "nbconvert_exporter": "python",
   "pygments_lexer": "ipython3",
   "version": "3.8.5"
  }
 },
 "nbformat": 4,
 "nbformat_minor": 4
}
