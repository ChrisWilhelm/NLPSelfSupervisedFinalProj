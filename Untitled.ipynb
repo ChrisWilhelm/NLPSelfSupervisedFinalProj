{
 "cells": [
  {
   "cell_type": "code",
   "execution_count": 1,
   "metadata": {},
   "outputs": [
    {
     "name": "stdout",
     "output_type": "stream",
     "text": [
      "Saved TrainDocs_1/resume_1201_d1.txt\n",
      "Saved TrainDocs_1/resume_604_d1.txt\n",
      "Saved TrainDocs_1/resume_106_d1.txt\n",
      "Saved TrainDocs_1/resume_2462_d1.txt\n",
      "Saved TrainDocs_1/resume_2372_d1.txt\n",
      "Saved TrainDocs_1/resume_340_d1.txt\n",
      "Saved TrainDocs_1/resume_1003_d1.txt\n",
      "Saved TrainDocs_1/resume_2357_d1.txt\n",
      "Saved TrainDocs_1/resume_2038_d1.txt\n",
      "Saved TrainDocs_1/resume_377_d1.txt\n",
      "Saved TrainDocs_1/resume_1076_d1.txt\n",
      "Saved TrainDocs_1/resume_951_d1.txt\n",
      "Saved TrainDocs_1/resume_2017_d1.txt\n",
      "Saved TrainDocs_1/resume_1386_d1.txt\n",
      "Saved TrainDocs_1/resume_2318_d1.txt\n",
      "Saved TrainDocs_1/resume_92_d1.txt\n",
      "Saved TrainDocs_1/resume_1087_d1.txt\n",
      "Saved TrainDocs_1/resume_1953_d1.txt\n",
      "Saved TrainDocs_1/resume_2127_d1.txt\n",
      "Saved TrainDocs_1/resume_1705_d1.txt\n",
      "Saved TrainDocs_1/resume_1888_d1.txt\n",
      "Saved TrainDocs_1/resume_2191_d1.txt\n",
      "Saved TrainDocs_1/resume_1632_d1.txt\n",
      "Saved TrainDocs_1/resume_46_d1.txt\n",
      "Saved TrainDocs_1/resume_2138_d1.txt\n",
      "Saved TrainDocs_1/resume_2435_d1.txt\n",
      "Saved TrainDocs_1/resume_1189_d1.txt\n",
      "Saved TrainDocs_1/resume_955_d1.txt\n",
      "Saved TrainDocs_1/resume_871_d1.txt\n",
      "Saved TrainDocs_1/resume_4_d1.txt\n",
      "Saved TrainDocs_1/resume_885_d1.txt\n",
      "Saved TrainDocs_1/resume_650_d1.txt\n",
      "Saved TrainDocs_1/resume_2297_d1.txt\n",
      "Saved TrainDocs_1/resume_1477_d1.txt\n",
      "Saved TrainDocs_1/resume_45_d1.txt\n",
      "Saved TrainDocs_1/resume_1818_d1.txt\n",
      "Saved TrainDocs_1/resume_1636_d1.txt\n",
      "Saved TrainDocs_1/resume_2121_d1.txt\n",
      "Saved TrainDocs_1/resume_2440_d1.txt\n",
      "Saved TrainDocs_1/resume_698_d1.txt\n",
      "Saved TrainDocs_1/resume_1177_d1.txt\n",
      "Saved TrainDocs_1/resume_706_d1.txt\n",
      "Saved TrainDocs_1/resume_251_d1.txt\n",
      "Saved TrainDocs_1/resume_2483_d1.txt\n",
      "Saved TrainDocs_1/resume_1245_d1.txt\n",
      "Saved TrainDocs_1/resume_510_d1.txt\n",
      "Saved TrainDocs_1/resume_1366_d1.txt\n",
      "Saved TrainDocs_1/resume_2161_d1.txt\n",
      "Saved TrainDocs_1/resume_1967_d1.txt\n",
      "Saved TrainDocs_1/resume_2315_d1.txt\n"
     ]
    }
   ],
   "source": [
    "import pandas as pd\n",
    "import random\n",
    "import os\n",
    "\n",
    "# Load the CSV file into a DataFrame\n",
    "df = pd.read_csv(\"Resume.csv\")\n",
    "\n",
    "# Select 4 random rows\n",
    "random_rows = df.sample(n=50)\n",
    "\n",
    "# Create a folder named TrainDocs_1 if it doesn't exist\n",
    "folder_name = \"TrainDocs_1\"\n",
    "os.makedirs(folder_name, exist_ok=True)\n",
    "\n",
    "# Iterate over the selected rows and save each 'Resume_txt' to a unique text file\n",
    "for index, row in random_rows.iterrows():\n",
    "    resume_text = row['Resume_str']\n",
    "    filename = os.path.join(folder_name, f\"resume_{index}_d1.txt\")\n",
    "    with open(filename, 'w', encoding='utf-8') as file:\n",
    "        file.write(resume_text)\n",
    "    print(f\"Saved {filename}\")\n"
   ]
  },
  {
   "cell_type": "code",
   "execution_count": 2,
   "metadata": {},
   "outputs": [
    {
     "data": {
      "text/plain": [
       "Index(['ID', 'Resume_str', 'Resume_html', 'Category'], dtype='object')"
      ]
     },
     "execution_count": 2,
     "metadata": {},
     "output_type": "execute_result"
    }
   ],
   "source": [
    "df.columns"
   ]
  },
  {
   "cell_type": "code",
   "execution_count": 3,
   "metadata": {},
   "outputs": [],
   "source": [
    "df2 = pd.read_csv(\"final_merged_dataset2.csv\")"
   ]
  },
  {
   "cell_type": "code",
   "execution_count": 11,
   "metadata": {},
   "outputs": [
    {
     "data": {
      "text/html": [
       "<div>\n",
       "<style scoped>\n",
       "    .dataframe tbody tr th:only-of-type {\n",
       "        vertical-align: middle;\n",
       "    }\n",
       "\n",
       "    .dataframe tbody tr th {\n",
       "        vertical-align: top;\n",
       "    }\n",
       "\n",
       "    .dataframe thead th {\n",
       "        text-align: right;\n",
       "    }\n",
       "</style>\n",
       "<table border=\"1\" class=\"dataframe\">\n",
       "  <thead>\n",
       "    <tr style=\"text-align: right;\">\n",
       "      <th></th>\n",
       "      <th>Resume</th>\n",
       "      <th>Category</th>\n",
       "    </tr>\n",
       "  </thead>\n",
       "  <tbody>\n",
       "    <tr>\n",
       "      <th>0</th>\n",
       "      <td>Python Developer Python Developer Philadelphia...</td>\n",
       "      <td>Python_Developer</td>\n",
       "    </tr>\n",
       "    <tr>\n",
       "      <th>1</th>\n",
       "      <td>Python Developer Python Developer Python Devel...</td>\n",
       "      <td>Python_Developer</td>\n",
       "    </tr>\n",
       "    <tr>\n",
       "      <th>2</th>\n",
       "      <td>R&amp;D Engineer R&amp;D Engineer R&amp;D Engineer - Nokia...</td>\n",
       "      <td>Python_Developer</td>\n",
       "    </tr>\n",
       "    <tr>\n",
       "      <th>3</th>\n",
       "      <td>Sr. Full Stack Developer Sr. Full Stack Develo...</td>\n",
       "      <td>Python_Developer</td>\n",
       "    </tr>\n",
       "    <tr>\n",
       "      <th>4</th>\n",
       "      <td>Sr. Full Stack Python Developer Sr. Full Stack...</td>\n",
       "      <td>Python_Developer</td>\n",
       "    </tr>\n",
       "  </tbody>\n",
       "</table>\n",
       "</div>"
      ],
      "text/plain": [
       "                                              Resume          Category\n",
       "0  Python Developer Python Developer Philadelphia...  Python_Developer\n",
       "1  Python Developer Python Developer Python Devel...  Python_Developer\n",
       "2  R&D Engineer R&D Engineer R&D Engineer - Nokia...  Python_Developer\n",
       "3  Sr. Full Stack Developer Sr. Full Stack Develo...  Python_Developer\n",
       "4  Sr. Full Stack Python Developer Sr. Full Stack...  Python_Developer"
      ]
     },
     "execution_count": 11,
     "metadata": {},
     "output_type": "execute_result"
    }
   ],
   "source": [
    "df2.head()"
   ]
  },
  {
   "cell_type": "code",
   "execution_count": 4,
   "metadata": {},
   "outputs": [
    {
     "name": "stdout",
     "output_type": "stream",
     "text": [
      "Saved TrainDocs_1/resume_3587_d2.txt\n",
      "Saved TrainDocs_1/resume_8076_d2.txt\n",
      "Saved TrainDocs_1/resume_4689_d2.txt\n",
      "Saved TrainDocs_1/resume_5210_d2.txt\n",
      "Saved TrainDocs_1/resume_7712_d2.txt\n",
      "Saved TrainDocs_1/resume_7381_d2.txt\n",
      "Saved TrainDocs_1/resume_4794_d2.txt\n",
      "Saved TrainDocs_1/resume_4663_d2.txt\n",
      "Saved TrainDocs_1/resume_1997_d2.txt\n",
      "Saved TrainDocs_1/resume_6120_d2.txt\n",
      "Saved TrainDocs_1/resume_7228_d2.txt\n",
      "Saved TrainDocs_1/resume_2867_d2.txt\n",
      "Saved TrainDocs_1/resume_1943_d2.txt\n",
      "Saved TrainDocs_1/resume_1767_d2.txt\n",
      "Saved TrainDocs_1/resume_725_d2.txt\n",
      "Saved TrainDocs_1/resume_2999_d2.txt\n",
      "Saved TrainDocs_1/resume_8205_d2.txt\n",
      "Saved TrainDocs_1/resume_5076_d2.txt\n",
      "Saved TrainDocs_1/resume_6056_d2.txt\n",
      "Saved TrainDocs_1/resume_2966_d2.txt\n",
      "Saved TrainDocs_1/resume_4962_d2.txt\n",
      "Saved TrainDocs_1/resume_7649_d2.txt\n",
      "Saved TrainDocs_1/resume_4544_d2.txt\n",
      "Saved TrainDocs_1/resume_1117_d2.txt\n",
      "Saved TrainDocs_1/resume_7611_d2.txt\n",
      "Saved TrainDocs_1/resume_2802_d2.txt\n",
      "Saved TrainDocs_1/resume_3977_d2.txt\n",
      "Saved TrainDocs_1/resume_1558_d2.txt\n",
      "Saved TrainDocs_1/resume_6508_d2.txt\n",
      "Saved TrainDocs_1/resume_6192_d2.txt\n",
      "Saved TrainDocs_1/resume_5853_d2.txt\n",
      "Saved TrainDocs_1/resume_667_d2.txt\n",
      "Saved TrainDocs_1/resume_752_d2.txt\n",
      "Saved TrainDocs_1/resume_2697_d2.txt\n",
      "Saved TrainDocs_1/resume_2842_d2.txt\n",
      "Saved TrainDocs_1/resume_4482_d2.txt\n",
      "Saved TrainDocs_1/resume_4525_d2.txt\n",
      "Saved TrainDocs_1/resume_216_d2.txt\n",
      "Saved TrainDocs_1/resume_2238_d2.txt\n",
      "Saved TrainDocs_1/resume_7761_d2.txt\n",
      "Saved TrainDocs_1/resume_7484_d2.txt\n",
      "Saved TrainDocs_1/resume_2411_d2.txt\n",
      "Saved TrainDocs_1/resume_6176_d2.txt\n",
      "Saved TrainDocs_1/resume_6942_d2.txt\n",
      "Saved TrainDocs_1/resume_7566_d2.txt\n",
      "Saved TrainDocs_1/resume_3695_d2.txt\n",
      "Saved TrainDocs_1/resume_7813_d2.txt\n",
      "Saved TrainDocs_1/resume_5083_d2.txt\n",
      "Saved TrainDocs_1/resume_3198_d2.txt\n",
      "Saved TrainDocs_1/resume_3497_d2.txt\n"
     ]
    }
   ],
   "source": [
    "# Select 4 random rows\n",
    "random_rows = df2.sample(n=50)\n",
    "\n",
    "# Create a folder named TrainDocs_1 if it doesn't exist\n",
    "folder_name = \"TrainDocs_1\"\n",
    "os.makedirs(folder_name, exist_ok=True)\n",
    "\n",
    "# Iterate over the selected rows and save each 'Resume_txt' to a unique text file\n",
    "for index, row in random_rows.iterrows():\n",
    "    resume_text = row['Resume']\n",
    "    filename = os.path.join(folder_name, f\"resume_{index}_d2.txt\")\n",
    "    with open(filename, 'w', encoding='utf-8') as file:\n",
    "        file.write(resume_text)\n",
    "    print(f\"Saved {filename}\")\n"
   ]
  },
  {
   "cell_type": "code",
   "execution_count": null,
   "metadata": {},
   "outputs": [],
   "source": []
  }
 ],
 "metadata": {
  "kernelspec": {
   "display_name": "Python 3",
   "language": "python",
   "name": "python3"
  },
  "language_info": {
   "codemirror_mode": {
    "name": "ipython",
    "version": 3
   },
   "file_extension": ".py",
   "mimetype": "text/x-python",
   "name": "python",
   "nbconvert_exporter": "python",
   "pygments_lexer": "ipython3",
   "version": "3.11.3"
  }
 },
 "nbformat": 4,
 "nbformat_minor": 4
}
