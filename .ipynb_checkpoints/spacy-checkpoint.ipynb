{
 "cells": [
  {
   "cell_type": "code",
   "execution_count": 1,
   "metadata": {},
   "outputs": [
    {
     "name": "stdout",
     "output_type": "stream",
     "text": [
      "0\n",
      "1\n",
      "2\n",
      "3\n",
      "4\n",
      "read\n",
      "{'ner': 1923.2981208569893}\n",
      "{'ner': 1518.1529237388527}\n",
      "{'ner': 1416.0077459701604}\n",
      "{'ner': 1257.227313960797}\n",
      "{'ner': 1203.5412200579958}\n",
      "{'ner': 1181.5695284072667}\n",
      "{'ner': 1168.5182141037058}\n",
      "{'ner': 1082.522767270963}\n",
      "{'ner': 1048.942361488448}\n",
      "{'ner': 925.0700986947335}\n",
      "{'ner': 960.2922230940351}\n",
      "{'ner': 918.0603782547332}\n",
      "{'ner': 876.4667416217623}\n",
      "{'ner': 924.0409272217455}\n",
      "{'ner': 890.2406860320168}\n",
      "{'ner': 811.3436742375773}\n",
      "{'ner': 810.4277843185271}\n",
      "{'ner': 775.9716264332129}\n",
      "{'ner': 709.2989910975}\n",
      "{'ner': 737.3036989655823}\n",
      "{'ner': 748.8324331081252}\n",
      "{'ner': 708.753897760465}\n",
      "{'ner': 671.3431049138585}\n",
      "{'ner': 662.629989722966}\n",
      "{'ner': 666.8415357894233}\n",
      "{'ner': 626.5273407139224}\n",
      "{'ner': 579.8109965143909}\n"
     ]
    },
    {
     "name": "stderr",
     "output_type": "stream",
     "text": [
      "\n",
      "KeyboardInterrupt\n",
      "\n"
     ]
    }
   ],
   "source": [
    "import os\n",
    "import spacy\n",
    "import random\n",
    "from spacy.training.example import Example\n",
    "import json\n",
    "\n",
    "# Initialize spacy model\n",
    "nlp = spacy.blank(\"en\")\n",
    "\n",
    "# Add NER component to the pipeline\n",
    "ner = nlp.add_pipe(\"ner\")\n",
    "\n",
    "# Process JSON data from all files in the folder\n",
    "folder_path = \"./LabeledDocuments\"\n",
    "train_data = []\n",
    "i = 0\n",
    "for filename in os.listdir(folder_path):\n",
    "    if filename.endswith(\".json\"):\n",
    "        with open(os.path.join(folder_path, filename), \"r\", encoding='utf-8') as file:\n",
    "            data = json.load(file)\n",
    "            for item in data:\n",
    "                text = item['text']\n",
    "                entities = item['entities']\n",
    "                annotated_entities = [(entity['start_idx'], entity['end_idx'], entity['type']) for entity in entities]\n",
    "                train_data.append((text, {'entities': annotated_entities}))\n",
    "            print(i)\n",
    "            i += 1\n",
    "    if i == 5:\n",
    "        break\n",
    "\n",
    "print(\"read\")\n",
    "\n",
    "# Add labels to the NER model\n",
    "for _, annotations in train_data:\n",
    "    for ent in annotations['entities']:\n",
    "        ner.add_label(ent[2])\n",
    "\n",
    "# Disable other pipeline components for training efficiency\n",
    "pipe_exceptions = [\"ner\", \"trf_wordpiecer\", \"trf_tok2vec\"]\n",
    "unaffected_pipes = [pipe for pipe in nlp.pipe_names if pipe not in pipe_exceptions]\n",
    "\n",
    "# Train NER model\n",
    "with nlp.disable_pipes(*unaffected_pipes):\n",
    "    optimizer = nlp.begin_training()\n",
    "    for itn in range(50):\n",
    "        random.shuffle(train_data)\n",
    "        losses = {}\n",
    "        for text, annotations in train_data:\n",
    "            try:\n",
    "                doc = nlp.make_doc(text)\n",
    "                example = Example.from_dict(doc, annotations)\n",
    "                nlp.update([example], drop=0.5, losses=losses)\n",
    "            except ValueError as e:\n",
    "                # print(f\"Skipping due to error: {e}\")\n",
    "                continue\n",
    "        print(losses)\n",
    "\n",
    "# Save model to disk\n",
    "nlp.to_disk(\"ner_model\")"
   ]
  },
  {
   "cell_type": "code",
   "execution_count": null,
   "metadata": {},
   "outputs": [],
   "source": []
  }
 ],
 "metadata": {
  "kernelspec": {
   "display_name": "Python 3 (ipykernel)",
   "language": "python",
   "name": "python3"
  },
  "language_info": {
   "codemirror_mode": {
    "name": "ipython",
    "version": 3
   },
   "file_extension": ".py",
   "mimetype": "text/x-python",
   "name": "python",
   "nbconvert_exporter": "python",
   "pygments_lexer": "ipython3",
   "version": "3.8.19"
  }
 },
 "nbformat": 4,
 "nbformat_minor": 4
}
