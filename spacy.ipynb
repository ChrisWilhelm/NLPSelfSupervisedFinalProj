{
 "cells": [
  {
   "cell_type": "code",
   "execution_count": 6,
   "metadata": {},
   "outputs": [
    {
     "ename": "ModuleNotFoundError",
     "evalue": "No module named 'spacy'",
     "output_type": "error",
     "traceback": [
      "\u001b[0;31m---------------------------------------------------------------------------\u001b[0m",
      "\u001b[0;31mModuleNotFoundError\u001b[0m                       Traceback (most recent call last)",
      "Cell \u001b[0;32mIn[6], line 2\u001b[0m\n\u001b[1;32m      1\u001b[0m \u001b[38;5;28;01mimport\u001b[39;00m \u001b[38;5;21;01mos\u001b[39;00m\n\u001b[0;32m----> 2\u001b[0m \u001b[38;5;28;01mimport\u001b[39;00m \u001b[38;5;21;01mspacy\u001b[39;00m\n\u001b[1;32m      3\u001b[0m \u001b[38;5;28;01mimport\u001b[39;00m \u001b[38;5;21;01mrandom\u001b[39;00m\n\u001b[1;32m      4\u001b[0m \u001b[38;5;28;01mfrom\u001b[39;00m \u001b[38;5;21;01mspacy\u001b[39;00m\u001b[38;5;21;01m.\u001b[39;00m\u001b[38;5;21;01mtraining\u001b[39;00m\u001b[38;5;21;01m.\u001b[39;00m\u001b[38;5;21;01mexample\u001b[39;00m \u001b[38;5;28;01mimport\u001b[39;00m Example\n",
      "\u001b[0;31mModuleNotFoundError\u001b[0m: No module named 'spacy'"
     ]
    }
   ],
   "source": [
    "import os\n",
    "import NLPSelfSupervisedFinalProj.ner_training as ner_training\n",
    "import random\n",
    "from spacy.training.example import Example\n",
    "import json\n",
    "\n",
    "# Initialize spacy model\n",
    "nlp = ner_training.blank(\"en\")\n",
    "\n",
    "# Add NER component to the pipeline\n",
    "ner = nlp.add_pipe(\"ner\")\n",
    "\n",
    "# Process JSON data from all files in the folder\n",
    "folder_path = \"./LabeledDocuments\"\n",
    "train_data = []\n",
    "i = 0\n",
    "for filename in os.listdir(folder_path):\n",
    "    if filename.endswith(\".json\"):\n",
    "        with open(os.path.join(folder_path, filename), \"r\", encoding='utf-8') as file:\n",
    "            data = json.load(file)\n",
    "            for item in data:\n",
    "                text = item['text']\n",
    "                entities = item['entities']\n",
    "                annotated_entities = [(entity['start_idx'], entity['end_idx'], entity['type']) for entity in entities]\n",
    "                train_data.append((text, {'entities': annotated_entities}))\n",
    "            print(i)\n",
    "            i += 1\n",
    "    if i == 5:\n",
    "        break\n",
    "\n",
    "print(\"read\")\n",
    "\n",
    "# Add labels to the NER model\n",
    "for _, annotations in train_data:\n",
    "    for ent in annotations['entities']:\n",
    "        ner.add_label(ent[2])\n",
    "\n",
    "# Disable other pipeline components for training efficiency\n",
    "pipe_exceptions = [\"ner\", \"trf_wordpiecer\", \"trf_tok2vec\"]\n",
    "unaffected_pipes = [pipe for pipe in nlp.pipe_names if pipe not in pipe_exceptions]\n",
    "\n",
    "# Train NER model\n",
    "with nlp.disable_pipes(*unaffected_pipes):\n",
    "    optimizer = nlp.begin_training()\n",
    "    for itn in range(50):\n",
    "        random.shuffle(train_data)\n",
    "        losses = {}\n",
    "        for text, annotations in train_data:\n",
    "            try:\n",
    "                doc = nlp.make_doc(text)\n",
    "                example = Example.from_dict(doc, annotations)\n",
    "                nlp.update([example], drop=0.5, losses=losses)\n",
    "            except ValueError as e:\n",
    "                # print(f\"Skipping due to error: {e}\")\n",
    "                continue\n",
    "        print(losses)\n",
    "\n",
    "# Save model to disk\n",
    "nlp.to_disk(\"ner_model\")"
   ]
  }
 ],
 "metadata": {
  "kernelspec": {
   "display_name": "Python 3",
   "language": "python",
   "name": "python3"
  },
  "language_info": {
   "codemirror_mode": {
    "name": "ipython",
    "version": 3
   },
   "file_extension": ".py",
   "mimetype": "text/x-python",
   "name": "python",
   "nbconvert_exporter": "python",
   "pygments_lexer": "ipython3",
   "version": "3.8.5"
  }
 },
 "nbformat": 4,
 "nbformat_minor": 4
}
